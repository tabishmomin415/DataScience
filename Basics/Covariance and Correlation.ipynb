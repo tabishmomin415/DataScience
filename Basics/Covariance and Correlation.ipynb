{
 "cells": [
  {
   "cell_type": "markdown",
   "id": "0927b7a2-96ce-40f5-b14f-ac117eb8aae7",
   "metadata": {},
   "source": [
    "   • Central Limit Theorem\n",
    "   \n",
    "   • Hypothesis Testing"
   ]
  },
  {
   "cell_type": "markdown",
   "id": "7e8fb37c-8fc2-4a38-a2d6-41f08c648e53",
   "metadata": {},
   "source": [
    "Covariance is a statistical measure that indicates the direction of the linear relationship between two variables. It assesses how much two variables change together from their mean values."
   ]
  },
  {
   "cell_type": "markdown",
   "id": "58623c26-48ec-4eb0-b892-e48a250b675b",
   "metadata": {},
   "source": [
    "Correlation is a standardized measure of the strength and direction of the linear relationship between two variables. It is derived from covariance and ranges between -1 and 1. Unlike covariance, which only indicates the direction of the relationship, correlation provides a standardized measure."
   ]
  },
  {
   "cell_type": "markdown",
   "id": "340e8f51-b26c-4174-b71c-62fd042fe3cd",
   "metadata": {},
   "source": [
    "Pearson Correlation Coefficient"
   ]
  },
  {
   "cell_type": "code",
   "execution_count": null,
   "id": "ae9f347c-e13a-43ca-87e0-180bd2c17856",
   "metadata": {},
   "outputs": [],
   "source": []
  }
 ],
 "metadata": {
  "kernelspec": {
   "display_name": "Python 3 (ipykernel)",
   "language": "python",
   "name": "python3"
  },
  "language_info": {
   "codemirror_mode": {
    "name": "ipython",
    "version": 3
   },
   "file_extension": ".py",
   "mimetype": "text/x-python",
   "name": "python",
   "nbconvert_exporter": "python",
   "pygments_lexer": "ipython3",
   "version": "3.12.4"
  }
 },
 "nbformat": 4,
 "nbformat_minor": 5
}
