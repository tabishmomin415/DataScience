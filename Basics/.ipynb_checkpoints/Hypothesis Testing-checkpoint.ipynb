{
 "cells": [
  {
   "cell_type": "markdown",
   "id": "3d0ad7be-d101-4c2f-a25c-e03fe7ab42af",
   "metadata": {},
   "source": [
    "Z Test"
   ]
  },
  {
   "cell_type": "code",
   "execution_count": null,
   "id": "87b69459-0b14-42d7-8aaa-2031a4a5f32f",
   "metadata": {},
   "outputs": [],
   "source": [
    "import scipy.stats as st\n",
    "import numpy as np"
   ]
  },
  {
   "cell_type": "code",
   "execution_count": 3,
   "id": "4441a455-57f3-4f83-9b73-13001285753e",
   "metadata": {},
   "outputs": [
    {
     "data": {
      "text/plain": [
       "1.6448536269514722"
      ]
     },
     "execution_count": 3,
     "metadata": {},
     "output_type": "execute_result"
    }
   ],
   "source": [
    "st.norm.ppf(0.95)"
   ]
  },
  {
   "cell_type": "code",
   "execution_count": 11,
   "id": "65d13e56-0f51-449d-9601-7dbd048e80f0",
   "metadata": {},
   "outputs": [],
   "source": [
    "sample_x = 90\n",
    "population_u = 82\n",
    "p_std = 20\n",
    "n = 81"
   ]
  },
  {
   "cell_type": "code",
   "execution_count": 15,
   "id": "f591de92-b765-4a94-b0d1-fe19a7b7e4cf",
   "metadata": {},
   "outputs": [
    {
     "data": {
      "text/plain": [
       "3.5999999999999996"
      ]
     },
     "execution_count": 15,
     "metadata": {},
     "output_type": "execute_result"
    }
   ],
   "source": [
    "z_cal = (sample_x - population_u)/(p_std/np.sqrt(n))\n",
    "z_cal"
   ]
  },
  {
   "cell_type": "code",
   "execution_count": 17,
   "id": "50d8f2ee-31b7-4a50-8a67-960e51621d13",
   "metadata": {},
   "outputs": [],
   "source": [
    "z_table = st.norm.ppf(1-0.05)"
   ]
  },
  {
   "cell_type": "code",
   "execution_count": 19,
   "id": "4c0b4e56-cf5d-4743-85f4-85597382067b",
   "metadata": {},
   "outputs": [
    {
     "name": "stdout",
     "output_type": "stream",
     "text": [
      "Ha is right\n"
     ]
    }
   ],
   "source": [
    "if z_table < z_cal :\n",
    "    print(\"Ha is right\")\n",
    "else:\n",
    "    print(\"Ho is right\")\n"
   ]
  },
  {
   "cell_type": "code",
   "execution_count": null,
   "id": "f95788d9-8aea-4b20-bcbe-12578a15a790",
   "metadata": {},
   "outputs": [],
   "source": []
  }
 ],
 "metadata": {
  "kernelspec": {
   "display_name": "Python 3 (ipykernel)",
   "language": "python",
   "name": "python3"
  },
  "language_info": {
   "codemirror_mode": {
    "name": "ipython",
    "version": 3
   },
   "file_extension": ".py",
   "mimetype": "text/x-python",
   "name": "python",
   "nbconvert_exporter": "python",
   "pygments_lexer": "ipython3",
   "version": "3.12.4"
  }
 },
 "nbformat": 4,
 "nbformat_minor": 5
}
