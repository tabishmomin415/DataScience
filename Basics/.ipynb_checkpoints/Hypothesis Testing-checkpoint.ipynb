{
 "cells": [
  {
   "cell_type": "markdown",
   "id": "3d0ad7be-d101-4c2f-a25c-e03fe7ab42af",
   "metadata": {},
   "source": [
    "Z Test(sample size >= 30)"
   ]
  },
  {
   "cell_type": "code",
   "execution_count": 3,
   "id": "87b69459-0b14-42d7-8aaa-2031a4a5f32f",
   "metadata": {},
   "outputs": [],
   "source": [
    "import scipy.stats as st\n",
    "import numpy as np"
   ]
  },
  {
   "cell_type": "code",
   "execution_count": 3,
   "id": "4441a455-57f3-4f83-9b73-13001285753e",
   "metadata": {},
   "outputs": [
    {
     "data": {
      "text/plain": [
       "1.6448536269514722"
      ]
     },
     "execution_count": 3,
     "metadata": {},
     "output_type": "execute_result"
    }
   ],
   "source": [
    "st.norm.ppf(0.95)"
   ]
  },
  {
   "cell_type": "code",
   "execution_count": 4,
   "id": "65d13e56-0f51-449d-9601-7dbd048e80f0",
   "metadata": {},
   "outputs": [],
   "source": [
    "sample_x = 90\n",
    "population_u = 82\n",
    "p_std = 20\n",
    "n = 81"
   ]
  },
  {
   "cell_type": "code",
   "execution_count": 8,
   "id": "f591de92-b765-4a94-b0d1-fe19a7b7e4cf",
   "metadata": {},
   "outputs": [
    {
     "data": {
      "text/plain": [
       "3.5999999999999996"
      ]
     },
     "execution_count": 8,
     "metadata": {},
     "output_type": "execute_result"
    }
   ],
   "source": [
    "z_cal = (sample_x - population_u)/(p_std/np.sqrt(n))\n",
    "z_cal"
   ]
  },
  {
   "cell_type": "code",
   "execution_count": 10,
   "id": "50d8f2ee-31b7-4a50-8a67-960e51621d13",
   "metadata": {},
   "outputs": [],
   "source": [
    "z_table = st.norm.ppf(1-0.05)"
   ]
  },
  {
   "cell_type": "code",
   "execution_count": 12,
   "id": "4c0b4e56-cf5d-4743-85f4-85597382067b",
   "metadata": {},
   "outputs": [
    {
     "name": "stdout",
     "output_type": "stream",
     "text": [
      "Ha is right\n"
     ]
    }
   ],
   "source": [
    "if z_table < z_cal :\n",
    "    print(\"Ha is right\")\n",
    "else:\n",
    "    print(\"Ho is right\")\n"
   ]
  },
  {
   "cell_type": "markdown",
   "id": "b2a45179-1cb9-45e4-9300-44a3e871af1f",
   "metadata": {},
   "source": [
    "Question 2:"
   ]
  },
  {
   "cell_type": "code",
   "execution_count": 15,
   "id": "e88396a4-0fee-420d-86b7-bceb106b9659",
   "metadata": {},
   "outputs": [],
   "source": [
    "old_design_data = np.array([45.2, 42.8, 38.9, 43.5, 41.0, 44.6, 40.5, 42.7, 39.8, 41.4, 44.3, 39.7, 42.1, 40.6, 43.0, 42.2, 41.5, 39.6, 44.0, 43.1, 38.7, 43.9, 42])\n",
    "new_design_data = np.array([48.5, 49.1, 50.2, 47.8, 48.7, 49.9, 48.0, 50.5, 49.8, 49.6, 48.2, 48.9, 49.7, 50.3, 49.4, 50.1, 48.6, 48.3, 49.0, 50.0, 48.4, 49.3, 49])\n"
   ]
  },
  {
   "cell_type": "code",
   "execution_count": 17,
   "id": "580af01f-45cc-48c7-9fc6-7dcebd060247",
   "metadata": {},
   "outputs": [],
   "source": [
    "pop_std = 2.5\n",
    "n_sp = len(new_design_data)\n",
    "apl = 0.05"
   ]
  },
  {
   "cell_type": "code",
   "execution_count": 19,
   "id": "4d1ff169-1d60-4aa3-b1da-579b53fba76f",
   "metadata": {},
   "outputs": [],
   "source": [
    "mean_new = np.mean(new_design_data)\n",
    "mean_old = np.mean(old_design_data)"
   ]
  },
  {
   "cell_type": "code",
   "execution_count": 21,
   "id": "b8f26549-f132-4ad1-966b-c04b5846c598",
   "metadata": {},
   "outputs": [
    {
     "data": {
      "text/plain": [
       "13.86203824651432"
      ]
     },
     "execution_count": 21,
     "metadata": {},
     "output_type": "execute_result"
    }
   ],
   "source": [
    "z_cal = (mean_new - mean_old)/(pop_std/np.sqrt(n_sp))\n",
    "z_cal"
   ]
  },
  {
   "cell_type": "code",
   "execution_count": 23,
   "id": "c4157a09-8896-47b0-9edd-197d55e917c4",
   "metadata": {},
   "outputs": [
    {
     "name": "stdout",
     "output_type": "stream",
     "text": [
      "Ha is right\n"
     ]
    }
   ],
   "source": [
    "if z_cal > z_table:\n",
    "    print(\"Ha is right\")\n",
    "else:\n",
    "    print(\"Ho is right\")"
   ]
  },
  {
   "cell_type": "markdown",
   "id": "c1dd15b5-bbb9-4754-9122-f713f9bc8e90",
   "metadata": {},
   "source": [
    "T test (Sample size < 30)"
   ]
  },
  {
   "cell_type": "code",
   "execution_count": 26,
   "id": "429c80fb-2708-4fd3-8f7d-7043de7ed1e4",
   "metadata": {},
   "outputs": [
    {
     "data": {
      "text/plain": [
       "1.7108820799094275"
      ]
     },
     "execution_count": 26,
     "metadata": {},
     "output_type": "execute_result"
    }
   ],
   "source": [
    "t_table=st.t.ppf(1-0.05,24)\n",
    "t_table"
   ]
  },
  {
   "cell_type": "code",
   "execution_count": 28,
   "id": "504e106c-a8f0-47cd-b705-3f42cea5ce99",
   "metadata": {},
   "outputs": [],
   "source": [
    "mean_s = 148\n",
    "mean_pop = 150\n",
    "std_sample = 5\n",
    "n_sample = 25"
   ]
  },
  {
   "cell_type": "code",
   "execution_count": 30,
   "id": "9aa55f86-a4d6-4b59-be74-c46423c1cad9",
   "metadata": {},
   "outputs": [
    {
     "data": {
      "text/plain": [
       "-2.0"
      ]
     },
     "execution_count": 30,
     "metadata": {},
     "output_type": "execute_result"
    }
   ],
   "source": [
    "t_cal = (mean_s - mean_pop)/( std_sample/np.sqrt(n_sample))\n",
    "t_cal\n"
   ]
  },
  {
   "cell_type": "code",
   "execution_count": 32,
   "id": "5c67ae5c-68f9-4404-8cbe-d8fa2ffe449f",
   "metadata": {},
   "outputs": [
    {
     "name": "stdout",
     "output_type": "stream",
     "text": [
      "Ho is right\n"
     ]
    }
   ],
   "source": [
    "if t_cal > t_table:\n",
    "    print(\"Ha is right\")\n",
    "else:\n",
    "    print(\"Ho is right\")"
   ]
  },
  {
   "cell_type": "markdown",
   "id": "b5894c84-1ae1-445d-8f86-87ef7ae2de2a",
   "metadata": {},
   "source": [
    "Example 2:"
   ]
  },
  {
   "cell_type": "code",
   "execution_count": 35,
   "id": "94693e0b-1255-41b1-98fb-2b1b16411597",
   "metadata": {},
   "outputs": [
    {
     "data": {
      "text/plain": [
       "2.024394163911969"
      ]
     },
     "execution_count": 35,
     "metadata": {},
     "output_type": "execute_result"
    }
   ],
   "source": [
    "t_table=st.t.ppf(1-0.025,38)\n",
    "t_table"
   ]
  },
  {
   "cell_type": "code",
   "execution_count": 37,
   "id": "e60d60e1-7cf5-43d1-8f0d-8b80f208b066",
   "metadata": {},
   "outputs": [],
   "source": [
    "mean_team_A = 80\n",
    "mean_team_B = 75\n"
   ]
  },
  {
   "cell_type": "code",
   "execution_count": 39,
   "id": "06d2fdab-b540-43a5-a8cb-7e173ff34174",
   "metadata": {},
   "outputs": [
    {
     "data": {
      "text/plain": [
       "3.1311214554257476"
      ]
     },
     "execution_count": 39,
     "metadata": {},
     "output_type": "execute_result"
    }
   ],
   "source": [
    "t_cal = (mean_team_A - mean_team_B) / (np.sqrt((25/20)+(26/20)))\n",
    "t_cal"
   ]
  },
  {
   "cell_type": "code",
   "execution_count": 41,
   "id": "1debd88e-fe0c-49fc-a0e7-ba6bd0140945",
   "metadata": {},
   "outputs": [
    {
     "name": "stdout",
     "output_type": "stream",
     "text": [
      "Ha is right\n"
     ]
    }
   ],
   "source": [
    "if t_cal > t_table:\n",
    "    print(\"Ha is right\")\n",
    "else:\n",
    "    print(\"Ho is right\")"
   ]
  },
  {
   "cell_type": "markdown",
   "id": "443d0c7d-01f8-44fd-9a51-e583bfd56a99",
   "metadata": {},
   "source": [
    "Question 3"
   ]
  },
  {
   "cell_type": "code",
   "execution_count": 44,
   "id": "0c893c58-7b25-4eb5-ad56-b24f79f177c3",
   "metadata": {},
   "outputs": [],
   "source": [
    "Before = np.array([50, 60, 45, 65, 55, 70, 40, 75, 80, 65, 70, 60, 50, 55, 45, 75, 60, 50, 65])\n",
    "After = np.array([60, 70, 55, 75, 65, 80, 50, 85, 90, 70, 75, 65, 55, 60, 50, 80, 65, 55, 75])"
   ]
  },
  {
   "cell_type": "code",
   "execution_count": 46,
   "id": "bdb5ced7-70cc-476c-b2d8-9a0a8dde6245",
   "metadata": {},
   "outputs": [],
   "source": [
    "std_a= np.std(After)\n",
    "std_b= np.std(Before)\n",
    "mean_a = np.mean(After)\n",
    "mean_b = np.mean(Before)"
   ]
  },
  {
   "cell_type": "code",
   "execution_count": 48,
   "id": "91220270-b881-465d-bda9-c13f553afb46",
   "metadata": {},
   "outputs": [
    {
     "data": {
      "text/plain": [
       "2.093024054408263"
      ]
     },
     "execution_count": 48,
     "metadata": {},
     "output_type": "execute_result"
    }
   ],
   "source": [
    "t_table=st.t.ppf(1-0.025,19)\n",
    "t_table"
   ]
  },
  {
   "cell_type": "code",
   "execution_count": 50,
   "id": "12d51f30-5a80-4650-8fef-ec9545946b83",
   "metadata": {},
   "outputs": [
    {
     "data": {
      "text/plain": [
       "2.0837753154352767"
      ]
     },
     "execution_count": 50,
     "metadata": {},
     "output_type": "execute_result"
    }
   ],
   "source": [
    "t_cal = (mean_a - mean_b)/(np.sqrt(((std_a*std_a)/len(After))+((std_b*std_b)/len(Before))))\n",
    "t_cal"
   ]
  },
  {
   "cell_type": "code",
   "execution_count": 52,
   "id": "23dcd4f2-33b5-4c4f-87b2-b43afaf76bd9",
   "metadata": {},
   "outputs": [
    {
     "name": "stdout",
     "output_type": "stream",
     "text": [
      "Ho is right\n"
     ]
    }
   ],
   "source": [
    "if t_cal > t_table:\n",
    "    print(\"Ha is right\")\n",
    "else:\n",
    "    print(\"Ho is right\")"
   ]
  },
  {
   "cell_type": "markdown",
   "id": "b626d6fd-e813-472d-b936-e06d42845f10",
   "metadata": {},
   "source": [
    "Chi Square Test"
   ]
  },
  {
   "cell_type": "markdown",
   "id": "e0b8c865-71e3-4923-bf29-2fd9e4e35d25",
   "metadata": {},
   "source": [
    "Question 1"
   ]
  },
  {
   "cell_type": "code",
   "execution_count": 56,
   "id": "c6d6638b-a241-4ad6-b724-49ae602f2e02",
   "metadata": {},
   "outputs": [],
   "source": [
    "ob = np.array([22,17,20,26,22,13])\n",
    "ex = np.array([20,20,20,20,20,20])"
   ]
  },
  {
   "cell_type": "code",
   "execution_count": 58,
   "id": "6e864f26-a77a-4b51-bc40-f0b7575155a3",
   "metadata": {},
   "outputs": [],
   "source": [
    "chi_cal = np.sum(np.square(ob-ex)/ex)"
   ]
  },
  {
   "cell_type": "code",
   "execution_count": 60,
   "id": "43f5f683-b3ba-4c26-9e4f-f1476a59ca23",
   "metadata": {},
   "outputs": [],
   "source": [
    "chi_table = st.chi2.ppf(1-0.05,5)"
   ]
  },
  {
   "cell_type": "code",
   "execution_count": 62,
   "id": "6e868492-9e4e-4afe-9233-3fbee6328848",
   "metadata": {},
   "outputs": [
    {
     "name": "stdout",
     "output_type": "stream",
     "text": [
      "Ho is right\n"
     ]
    }
   ],
   "source": [
    "if chi_cal > chi_table:\n",
    "    print(\"Ha is right\")\n",
    "else:\n",
    "    print(\"Ho is right\")"
   ]
  },
  {
   "cell_type": "markdown",
   "id": "d3247bc7-d6a0-4e43-b5b3-33aa9ff1af8f",
   "metadata": {},
   "source": [
    "Question 2"
   ]
  },
  {
   "cell_type": "code",
   "execution_count": 65,
   "id": "274959f3-190e-46a5-8c20-288d89591ef7",
   "metadata": {},
   "outputs": [
    {
     "data": {
      "text/plain": [
       "7.814727903251179"
      ]
     },
     "execution_count": 65,
     "metadata": {},
     "output_type": "execute_result"
    }
   ],
   "source": [
    "chi_table = st.chi2.ppf(1-0.05,3)\n",
    "chi_table"
   ]
  },
  {
   "cell_type": "code",
   "execution_count": 15,
   "id": "667720d9-6f44-4414-8a5d-2e077dbc4533",
   "metadata": {},
   "outputs": [],
   "source": [
    "row1 = np.array([40,45,25,10])\n",
    "row2 = np.array([35,30,20,30])"
   ]
  },
  {
   "cell_type": "code",
   "execution_count": 17,
   "id": "2066e832-a632-46fe-9bd1-a81948522c66",
   "metadata": {},
   "outputs": [],
   "source": [
    "sum_r1 = np.sum(row1)\n",
    "sum_r2 = np.sum(row2)\n",
    "sum_row = np.array([sum_r1,sum_r2])"
   ]
  },
  {
   "cell_type": "code",
   "execution_count": 19,
   "id": "87d818e0-6f0b-42f4-842f-c070dcd6b215",
   "metadata": {},
   "outputs": [
    {
     "data": {
      "text/plain": [
       "array([75, 75, 45, 40])"
      ]
     },
     "execution_count": 19,
     "metadata": {},
     "output_type": "execute_result"
    }
   ],
   "source": [
    "sum_col = row1 + row2\n",
    "sum_col"
   ]
  },
  {
   "cell_type": "code",
   "execution_count": 21,
   "id": "f64488ef-50f1-4396-997d-e7c188387787",
   "metadata": {},
   "outputs": [],
   "source": [
    "exp = []\n",
    "for i in sum_row :\n",
    "    for j in sum_col :\n",
    "        value = (i*j)/235\n",
    "        exp.append(exp)"
   ]
  },
  {
   "cell_type": "code",
   "execution_count": 7,
   "id": "96a9c8c7-5379-4aa2-82d4-8712166b546f",
   "metadata": {},
   "outputs": [],
   "source": [
    "obj = np.array([40,45,25,10,35,30,20,30])"
   ]
  },
  {
   "cell_type": "code",
   "execution_count": null,
   "id": "314fa15b-0c94-483e-ad29-433548fb48a8",
   "metadata": {},
   "outputs": [],
   "source": [
    "chi_cal = np.sum(np.square(obj-exp)/exp)\n",
    "chi_cal"
   ]
  },
  {
   "cell_type": "code",
   "execution_count": null,
   "id": "eb586ff2-8017-4cdf-a1ba-431b895d5e6b",
   "metadata": {},
   "outputs": [],
   "source": [
    "if chi_cal > chi_table:\n",
    "    print(\"Ha is right\")\n",
    "else:\n",
    "    print(\"Ho is right\")"
   ]
  }
 ],
 "metadata": {
  "kernelspec": {
   "display_name": "Python 3 (ipykernel)",
   "language": "python",
   "name": "python3"
  },
  "language_info": {
   "codemirror_mode": {
    "name": "ipython",
    "version": 3
   },
   "file_extension": ".py",
   "mimetype": "text/x-python",
   "name": "python",
   "nbconvert_exporter": "python",
   "pygments_lexer": "ipython3",
   "version": "3.12.4"
  }
 },
 "nbformat": 4,
 "nbformat_minor": 5
}
